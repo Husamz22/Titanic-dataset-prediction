{
 "cells": [
  {
   "cell_type": "code",
   "execution_count": 8,
   "id": "f1a27596-59bd-4300-8122-2becfd58d641",
   "metadata": {},
   "outputs": [],
   "source": [
    "import joblib\n",
    "import pandas as pd\n",
    "from sklearn.linear_model import LogisticRegression\n",
    "\n",
    "model = joblib.load('titanic_model.pkl')\n",
    "scaler = joblib.load('scaler.pkl')"
   ]
  },
  {
   "cell_type": "code",
   "execution_count": 34,
   "id": "30877800-fa2c-4b84-9607-2c6bba3cdf13",
   "metadata": {},
   "outputs": [],
   "source": [
    "x_new = pd.DataFrame({\n",
    "    'Pclass': [3],\n",
    "    'Age': [25],\n",
    "    'SibSp': [0],\n",
    "    'Parch': [0],\n",
    "    'Fare': [7.25],\n",
    "    'Sex_male': [1],\n",
    "    'Embarked_Q': [0],\n",
    "    'Embarked_S': [1],\n",
    "    'FamilySize': [2],\n",
    "    'IsAlone': [1],\n",
    "})"
   ]
  },
  {
   "cell_type": "code",
   "execution_count": 35,
   "id": "2f08322e-db42-4554-b4a3-345603b9d81d",
   "metadata": {},
   "outputs": [],
   "source": [
    "x_new_scaled= scaler.transform(x_new)"
   ]
  },
  {
   "cell_type": "code",
   "execution_count": 36,
   "id": "54e0d203-781d-4fb4-af64-82f07a662935",
   "metadata": {},
   "outputs": [
    {
     "name": "stdout",
     "output_type": "stream",
     "text": [
      "[0]\n"
     ]
    }
   ],
   "source": [
    "predictions = model.predict(x_new_scaled)\n",
    "print(predictions)"
   ]
  },
  {
   "cell_type": "code",
   "execution_count": null,
   "id": "eac43968-3f5b-4e76-b3f6-5f02e2b8274d",
   "metadata": {},
   "outputs": [],
   "source": []
  }
 ],
 "metadata": {
  "kernelspec": {
   "display_name": "Python 3 (ipykernel)",
   "language": "python",
   "name": "python3"
  },
  "language_info": {
   "codemirror_mode": {
    "name": "ipython",
    "version": 3
   },
   "file_extension": ".py",
   "mimetype": "text/x-python",
   "name": "python",
   "nbconvert_exporter": "python",
   "pygments_lexer": "ipython3",
   "version": "3.10.4"
  }
 },
 "nbformat": 4,
 "nbformat_minor": 5
}
